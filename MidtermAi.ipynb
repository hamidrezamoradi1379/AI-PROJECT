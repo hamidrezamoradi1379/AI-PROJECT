{
 "cells": [
  {
   "cell_type": "code",
   "execution_count": 1,
   "metadata": {},
   "outputs": [],
   "source": [
    "import numpy as np\n",
    "import pandas as pd\n",
    "from sklearn.model_selection import train_test_split\n",
    "from sklearn.neighbors import KNeighborsClassifier\n",
    "from sklearn.svm import SVC\n",
    "from sklearn.linear_model import LogisticRegression\n",
    "from sklearn.metrics import accuracy_score, classification_report, confusion_matrix\n",
    "from sklearn.tree import DecisionTreeClassifier\n",
    "from sklearn.ensemble import RandomForestClassifier\n",
    "from sklearn.preprocessing import StandardScaler"
   ]
  },
  {
   "cell_type": "code",
   "execution_count": 6,
   "metadata": {},
   "outputs": [],
   "source": [
    "with np.load('mnist.npz') as data:\n",
    "    X_train, y_train = data['x_train'], data['y_train']\n",
    "    X_test, y_test = data['x_test'], data['y_test']"
   ]
  },
  {
   "cell_type": "code",
   "execution_count": 8,
   "metadata": {},
   "outputs": [],
   "source": [
    "\n",
    "X_train_flat = X_train.reshape(X_train.shape[0], -1)\n",
    "X_test_flat = X_test.reshape(X_test.shape[0], -1)\n"
   ]
  },
  {
   "cell_type": "code",
   "execution_count": 9,
   "metadata": {},
   "outputs": [],
   "source": [
    "\n",
    "scaler = StandardScaler()\n",
    "X_train_scaled = scaler.fit_transform(X_train_flat)\n",
    "X_test_scaled = scaler.transform(X_test_flat)"
   ]
  },
  {
   "cell_type": "code",
   "execution_count": 10,
   "metadata": {},
   "outputs": [],
   "source": [
    "\n",
    "X_train_split, X_val_split, y_train_split, y_val_split = train_test_split(X_train_scaled, y_train, test_size=0.2, random_state=42)"
   ]
  },
  {
   "cell_type": "code",
   "execution_count": 19,
   "metadata": {},
   "outputs": [],
   "source": [
    "\n",
    "knn_model = KNeighborsClassifier()\n",
    "svm_model = SVC()\n",
    "logistic_model = LogisticRegression(max_iter=100000)  \n",
    "decision_tree_model = DecisionTreeClassifier()\n",
    "random_forest_model = RandomForestClassifier()"
   ]
  },
  {
   "cell_type": "code",
   "execution_count": 20,
   "metadata": {},
   "outputs": [],
   "source": [
    "\n",
    "knn_model.fit(X_train_split, y_train_split)\n",
    "svm_model.fit(X_train_split, y_train_split)\n",
    "logistic_model.fit(X_train_split, y_train_split)\n",
    "decision_tree_model.fit(X_train_split, y_train_split)\n",
    "random_forest_model.fit(X_train_split, y_train_split)"
   ]
  },
  {
   "cell_type": "code",
   "execution_count": null,
   "metadata": {},
   "outputs": [],
   "source": [
    "\n",
    "knn_predictions = knn_model.predict(X_val_split)\n",
    "svm_predictions = svm_model.predict(X_val_split)\n",
    "logistic_predictions = logistic_model.predict(X_val_split)\n",
    "decision_tree_predictions = decision_tree_model.predict(X_val_split)\n",
    "random_forest_predictions = random_forest_model.predict(X_val_split)"
   ]
  },
  {
   "cell_type": "code",
   "execution_count": null,
   "metadata": {},
   "outputs": [],
   "source": [
    "\n",
    "knn_accuracy = accuracy_score(y_val_split, knn_predictions)\n",
    "svm_accuracy = accuracy_score(y_val_split, svm_predictions)\n",
    "logistic_accuracy = accuracy_score(y_val_split, logistic_predictions)\n",
    "decision_tree_accuracy = accuracy_score(y_val_split, decision_tree_predictions)\n",
    "random_forest_accuracy = accuracy_score(y_val_split, random_forest_predictions)"
   ]
  },
  {
   "cell_type": "code",
   "execution_count": null,
   "metadata": {},
   "outputs": [
    {
     "name": "stdout",
     "output_type": "stream",
     "text": [
      "KNN Accuracy on Validation Data: 0.94575\n",
      "SVM Accuracy on Validation Data: 0.9636666666666667\n",
      "Logistic Regression Accuracy on Validation Data: 0.9145833333333333\n",
      "Decision Tree Accuracy on Validation Data: 0.8661666666666666\n",
      "Random Forest Accuracy on Validation Data: 0.9679166666666666\n"
     ]
    }
   ],
   "source": [
    "\n",
    "print(f'KNN Accuracy on Validation Data: {knn_accuracy}')\n",
    "print(f'SVM Accuracy on Validation Data: {svm_accuracy}')\n",
    "print(f'Logistic Regression Accuracy on Validation Data: {logistic_accuracy}')\n",
    "print(f'Decision Tree Accuracy on Validation Data: {decision_tree_accuracy}')\n",
    "print(f'Random Forest Accuracy on Validation Data: {random_forest_accuracy}')"
   ]
  },
  {
   "cell_type": "code",
   "execution_count": null,
   "metadata": {},
   "outputs": [],
   "source": [
    "\n",
    "best_model = max([(knn_model, knn_accuracy), (svm_model, svm_accuracy), (logistic_model, logistic_accuracy),\n",
    "                  (decision_tree_model, decision_tree_accuracy), (random_forest_model, random_forest_accuracy)],\n",
    "                 key=lambda x: x[1])[0]"
   ]
  },
  {
   "cell_type": "code",
   "execution_count": null,
   "metadata": {},
   "outputs": [
    {
     "name": "stdout",
     "output_type": "stream",
     "text": [
      "Final Model Accuracy on Test Data: 0.9689\n"
     ]
    }
   ],
   "source": [
    "\n",
    "X_test_flat = X_test.reshape(X_test.shape[0], -1) \n",
    "X_test_scaled = scaler.transform(X_test_flat)\n",
    "\n",
    "final_predictions = best_model.predict(X_test_scaled)\n",
    "final_accuracy = accuracy_score(y_test, final_predictions)\n",
    "\n",
    "print(f'Final Model Accuracy on Test Data: {final_accuracy}')"
   ]
  },
  {
   "cell_type": "code",
   "execution_count": 18,
   "metadata": {},
   "outputs": [
    {
     "name": "stdout",
     "output_type": "stream",
     "text": [
      "Classification Report for the Final Model:\n",
      "              precision    recall  f1-score   support\n",
      "\n",
      "           0       0.97      0.99      0.98       980\n",
      "           1       0.99      0.99      0.99      1135\n",
      "           2       0.96      0.97      0.96      1032\n",
      "           3       0.97      0.96      0.96      1010\n",
      "           4       0.98      0.97      0.97       982\n",
      "           5       0.96      0.97      0.96       892\n",
      "           6       0.98      0.98      0.98       958\n",
      "           7       0.97      0.96      0.97      1028\n",
      "           8       0.96      0.95      0.96       974\n",
      "           9       0.96      0.95      0.95      1009\n",
      "\n",
      "    accuracy                           0.97     10000\n",
      "   macro avg       0.97      0.97      0.97     10000\n",
      "weighted avg       0.97      0.97      0.97     10000\n",
      "\n",
      "Confusion Matrix for the Final Model:\n",
      "[[ 971    0    0    0    0    2    1    1    4    1]\n",
      " [   0 1124    2    3    0    2    2    0    1    1]\n",
      " [   6    0  998    7    2    0    3   10    6    0]\n",
      " [   0    0   11  967    0   10    0   11    8    3]\n",
      " [   1    0    1    0  951    0    5    0    4   20]\n",
      " [   4    0    0    9    1  862    8    1    4    3]\n",
      " [   7    3    1    0    4    4  937    0    2    0]\n",
      " [   1    4   19    2    0    0    0  992    3    7]\n",
      " [   3    0    6    4    6   11    4    3  929    8]\n",
      " [   9    6    1    9   10    4    1    4    7  958]]\n"
     ]
    }
   ],
   "source": [
    "\n",
    "print(\"Classification Report for the Final Model:\")\n",
    "print(classification_report(y_test, final_predictions))\n",
    "\n",
    "print(\"Confusion Matrix for the Final Model:\")\n",
    "print(confusion_matrix(y_test, final_predictions))"
   ]
  },
  {
   "cell_type": "code",
   "execution_count": null,
   "metadata": {},
   "outputs": [],
   "source": [
    "#Agarche Dige dar daneshgah tofigh hozur dar kelasetun nakhahim dasht , vali khaterat khubi az shoma be yad Miseparim :)"
   ]
  }
 ],
 "metadata": {
  "kernelspec": {
   "display_name": "Python 3",
   "language": "python",
   "name": "python3"
  },
  "language_info": {
   "codemirror_mode": {
    "name": "ipython",
    "version": 3
   },
   "file_extension": ".py",
   "mimetype": "text/x-python",
   "name": "python",
   "nbconvert_exporter": "python",
   "pygments_lexer": "ipython3",
   "version": "3.12.1"
  }
 },
 "nbformat": 4,
 "nbformat_minor": 2
}
